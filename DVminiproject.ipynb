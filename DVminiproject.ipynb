{
  "nbformat": 4,
  "nbformat_minor": 0,
  "metadata": {
    "colab": {
      "private_outputs": true,
      "provenance": []
    },
    "kernelspec": {
      "name": "python3",
      "display_name": "Python 3"
    },
    "language_info": {
      "name": "python"
    }
  },
  "cells": [
    {
      "cell_type": "markdown",
      "source": [
        "3. PID03\n",
        "Create cheat sheet for python pandas function by applying following operation on Anime\n",
        "Recommendations Database which can be downloaded from kaggle\n",
        "repository(https://www.kaggle.com/datasets/CooperUnion/anime-recommendations-database). This\n",
        "data set contains information on user preference data from 73,516 users on 12,294 anime. Each user is\n",
        "able to add anime to their completed list and give it a rating and this data set is a compilation of those\n",
        " ratings.bold text"
      ],
      "metadata": {
        "id": "0B6KuVJUHBdq"
      }
    },
    {
      "cell_type": "markdown",
      "source": [
        "**A. Convert a CSV file directly into a data frame**"
      ],
      "metadata": {
        "id": "OUB0BWLvH2qV"
      }
    },
    {
      "cell_type": "code",
      "execution_count": null,
      "metadata": {
        "id": "LyUH6hNuAHon"
      },
      "outputs": [],
      "source": [
        "import pandas as pd\n",
        "df = pd.read_csv('/content/anime.csv')\n",
        "df"
      ]
    },
    {
      "cell_type": "code",
      "source": [
        "df1 = pd.read_csv('/content/rating.csv')\n",
        "df1"
      ],
      "metadata": {
        "id": "YlJP3wQDEIJd"
      },
      "execution_count": null,
      "outputs": []
    },
    {
      "cell_type": "markdown",
      "source": [
        "**B. Concatenate 2 dataframes**"
      ],
      "metadata": {
        "id": "2K-bTH_kIBW8"
      }
    },
    {
      "cell_type": "code",
      "source": [
        "vertical_concat = pd.concat([df, df1], axis=0) #Concatenating along row\n",
        "horizontal_concat = pd.concat([df, df1], axis=1) #concatenating along column\n",
        "display(vertical_concat, horizontal_concat)"
      ],
      "metadata": {
        "id": "KdyS5SguHGrz"
      },
      "execution_count": null,
      "outputs": []
    },
    {
      "cell_type": "markdown",
      "source": [
        "**C. Merge dataframes**"
      ],
      "metadata": {
        "id": "AnD2_U49JHKM"
      }
    },
    {
      "cell_type": "code",
      "source": [
        "newdf1 = df.merge(df1,how='right')\n",
        "newdf1.head()"
      ],
      "metadata": {
        "id": "GdvxAEE1JLnD"
      },
      "execution_count": null,
      "outputs": []
    },
    {
      "cell_type": "code",
      "source": [
        "newdf4 = df.merge(df1,how='left')\n",
        "newdf4.head()"
      ],
      "metadata": {
        "id": "Izd8z4m2Da9z"
      },
      "execution_count": null,
      "outputs": []
    },
    {
      "cell_type": "code",
      "source": [
        "newdf3 = df.merge(df1)\n",
        "newdf3.head()"
      ],
      "metadata": {
        "id": "_sJxAIHgFBiu"
      },
      "execution_count": null,
      "outputs": []
    },
    {
      "cell_type": "markdown",
      "source": [
        "**D. Retrieve rows with matching index values(explicit index)**"
      ],
      "metadata": {
        "id": "K6l5C3usjkvX"
      }
    },
    {
      "cell_type": "code",
      "source": [
        "df2=newdf3.loc[:,[\"anime_id\",\"rating\"]]\n",
        "df2.head()"
      ],
      "metadata": {
        "id": "Ne_7eKCZFrjV"
      },
      "execution_count": null,
      "outputs": []
    },
    {
      "cell_type": "markdown",
      "source": [
        "**E. Retrieve rows by numbered index values(implicit index)**"
      ],
      "metadata": {
        "id": "jJwTsjSUj6oZ"
      }
    },
    {
      "cell_type": "code",
      "source": [
        "df2=newdf3.iloc[:,[1,2,4]]\n",
        "df2.head()"
      ],
      "metadata": {
        "id": "oblaGrL-WEJe"
      },
      "execution_count": null,
      "outputs": []
    },
    {
      "cell_type": "markdown",
      "source": [
        "**F.Retrieve rows where a column’s value is in a given list**"
      ],
      "metadata": {
        "id": "iDgC0DfJKDte"
      }
    },
    {
      "cell_type": "code",
      "source": [
        "newdf3.iloc[[3,8,9],[1,3,4]]"
      ],
      "metadata": {
        "id": "bUC9yvBsXHe6"
      },
      "execution_count": null,
      "outputs": []
    },
    {
      "cell_type": "markdown",
      "source": [
        "**G.Slice a data frame to get all rows before/between/after specified indices**"
      ],
      "metadata": {
        "id": "89QWijeQKO4k"
      }
    },
    {
      "cell_type": "code",
      "source": [
        "newdf3.iloc[:,:3].head()"
      ],
      "metadata": {
        "id": "tcZNN7OLYJSs"
      },
      "execution_count": null,
      "outputs": []
    },
    {
      "cell_type": "code",
      "source": [
        "newdf3.iloc[:,5:7].head()"
      ],
      "metadata": {
        "id": "zAgm0dK6aQkw"
      },
      "execution_count": null,
      "outputs": []
    },
    {
      "cell_type": "code",
      "source": [
        "newdf3.iloc[:,7:].head()"
      ],
      "metadata": {
        "id": "YmQBLRsBaZNQ"
      },
      "execution_count": null,
      "outputs": []
    },
    {
      "cell_type": "markdown",
      "source": [
        "**H. Filter data frame for rows that meet a condition**"
      ],
      "metadata": {
        "id": "HwRGN0zKKWjY"
      }
    },
    {
      "cell_type": "code",
      "source": [
        "newdf3[newdf3[\"name\"] == 'City Hunter'].head()"
      ],
      "metadata": {
        "id": "Sa8RWhLzaeGP"
      },
      "execution_count": null,
      "outputs": []
    },
    {
      "cell_type": "markdown",
      "source": [
        "**I. Sort data frame by values in a column.**"
      ],
      "metadata": {
        "id": "PKwGKknLKcjX"
      }
    },
    {
      "cell_type": "code",
      "source": [
        "newdf3.sort_values(by=\"rating\") .head()"
      ],
      "metadata": {
        "id": "oCs5p_zxbCyf"
      },
      "execution_count": null,
      "outputs": []
    },
    {
      "cell_type": "markdown",
      "source": [
        "**J. Count number of records for each distinct value in a column.**"
      ],
      "metadata": {
        "id": "PuLsnff-KkUe"
      }
    },
    {
      "cell_type": "code",
      "source": [
        "n = newdf3.nunique(axis=0)\n",
        "n"
      ],
      "metadata": {
        "id": "IOWzerLubYKP"
      },
      "execution_count": null,
      "outputs": []
    },
    {
      "cell_type": "code",
      "source": [
        "n = newdf3.nunique(axis=1)\n",
        "n"
      ],
      "metadata": {
        "id": "YIO7brypcDQ_"
      },
      "execution_count": null,
      "outputs": []
    },
    {
      "cell_type": "markdown",
      "source": [
        "**K. Groupby and aggregate columns in different ways**"
      ],
      "metadata": {
        "id": "1VKiAwUIKvYd"
      }
    },
    {
      "cell_type": "code",
      "source": [
        "grouped_multiple = df.groupby(['anime_id','type']).agg({'rating': ['mean', 'min', 'max']})\n",
        "grouped_multiple.columns = ['rating_mean', 'rating_min', 'rating_max']\n",
        "grouped_multiple = grouped_multiple.reset_index()\n",
        "print(grouped_multiple)"
      ],
      "metadata": {
        "id": "6JdaxPbccKKx"
      },
      "execution_count": null,
      "outputs": []
    },
    {
      "cell_type": "markdown",
      "source": [
        "**L. Create a pivot table**"
      ],
      "metadata": {
        "id": "wS-_1JtoK1sp"
      }
    },
    {
      "cell_type": "code",
      "source": [
        "table = pd.pivot_table(data=newdf3,index=['episodes'],aggfunc='sum')\n",
        "table"
      ],
      "metadata": {
        "id": "FB7UJSIHdYi4"
      },
      "execution_count": null,
      "outputs": []
    },
    {
      "cell_type": "markdown",
      "source": [
        "**M. Set NaN cells to some value**"
      ],
      "metadata": {
        "id": "zAMBCe8NLFBr"
      }
    },
    {
      "cell_type": "code",
      "source": [
        "newdf3.isnull()"
      ],
      "metadata": {
        "id": "mScCibeXfKLX"
      },
      "execution_count": null,
      "outputs": []
    },
    {
      "cell_type": "code",
      "source": [
        "newdf1.head()"
      ],
      "metadata": {
        "id": "RH6F1kUIf6N_"
      },
      "execution_count": null,
      "outputs": []
    },
    {
      "cell_type": "code",
      "source": [
        "newdf1.fillna(0).head()"
      ],
      "metadata": {
        "id": "U01UjYFSgFpO"
      },
      "execution_count": null,
      "outputs": []
    },
    {
      "cell_type": "code",
      "source": [
        "newdf4.head()"
      ],
      "metadata": {
        "id": "7-RVpltshW_v"
      },
      "execution_count": null,
      "outputs": []
    },
    {
      "cell_type": "code",
      "source": [
        "newdf4.fillna(method='ffill',axis=1).head()"
      ],
      "metadata": {
        "id": "xaLR0WKOge1z"
      },
      "execution_count": null,
      "outputs": []
    }
  ]
}